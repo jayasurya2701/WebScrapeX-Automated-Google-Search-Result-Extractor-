{
  "cells": [
    {
      "cell_type": "markdown",
      "metadata": {
        "id": "view-in-github",
        "colab_type": "text"
      },
      "source": [
        "<a href=\"https://colab.research.google.com/github/jayasurya2701/WebScrapeX-Automated-Google-Search-Result-Extractor-/blob/main/Web_ScrapeX.ipynb\" target=\"_parent\"><img src=\"https://colab.research.google.com/assets/colab-badge.svg\" alt=\"Open In Colab\"/></a>"
      ]
    },
    {
      "cell_type": "code",
      "execution_count": 3,
      "id": "b2044da3",
      "metadata": {
        "colab": {
          "base_uri": "https://localhost:8080/"
        },
        "id": "b2044da3",
        "outputId": "c6617612-19ea-471c-df72-5a5970fc810e"
      },
      "outputs": [
        {
          "output_type": "stream",
          "name": "stdout",
          "text": [
            "Requirement already satisfied: requests in /usr/local/lib/python3.10/dist-packages (2.32.3)\n",
            "Requirement already satisfied: charset-normalizer<4,>=2 in /usr/local/lib/python3.10/dist-packages (from requests) (3.4.0)\n",
            "Requirement already satisfied: idna<4,>=2.5 in /usr/local/lib/python3.10/dist-packages (from requests) (3.10)\n",
            "Requirement already satisfied: urllib3<3,>=1.21.1 in /usr/local/lib/python3.10/dist-packages (from requests) (2.2.3)\n",
            "Requirement already satisfied: certifi>=2017.4.17 in /usr/local/lib/python3.10/dist-packages (from requests) (2024.8.30)\n"
          ]
        }
      ],
      "source": [
        " pip install requests"
      ]
    },
    {
      "cell_type": "code",
      "execution_count": 4,
      "id": "8db2a610",
      "metadata": {
        "colab": {
          "base_uri": "https://localhost:8080/"
        },
        "id": "8db2a610",
        "outputId": "e95eef5d-1be4-457e-9aa4-0c7ae9b668b7"
      },
      "outputs": [
        {
          "output_type": "stream",
          "name": "stdout",
          "text": [
            "Requirement already satisfied: beautifulsoup4 in /usr/local/lib/python3.10/dist-packages (4.12.3)\n",
            "Requirement already satisfied: soupsieve>1.2 in /usr/local/lib/python3.10/dist-packages (from beautifulsoup4) (2.6)\n"
          ]
        }
      ],
      "source": [
        "\n",
        "pip install beautifulsoup4"
      ]
    },
    {
      "cell_type": "code",
      "execution_count": 8,
      "id": "0ce0c0a7",
      "metadata": {
        "id": "0ce0c0a7"
      },
      "outputs": [],
      "source": [
        "import requests\n",
        "from bs4 import BeautifulSoup\n",
        "\n",
        "def get_google_search_results(keyword, num_results=10):\n",
        "    # Prepare the search query\n",
        "    query = keyword.replace(' ', '+')\n",
        "    url = f\"https://www.google.com/search?q={query}&num={num_results}\"\n",
        "\n",
        "    # Set up headers to mimic a browser visit\n",
        "    headers = {\n",
        "        \"User-Agent\": \"Mozilla/5.0 (Windows NT 10.0; Win64; x64) AppleWebKit/537.36 (KHTML, like Gecko) Chrome/91.0.4472.124 Safari/537.36\"\n",
        "    }\n",
        "\n",
        "    # Send a GET request to fetch the search results page\n",
        "    response = requests.get(url, headers=headers)\n",
        "\n",
        "    # Check if the request was successful\n",
        "    if response.status_code != 200:\n",
        "        print(\"Failed to retrieve web page. Status code:\", response.status_code)\n",
        "        return []\n",
        "\n",
        "    # Parse the HTML content\n",
        "    soup = BeautifulSoup(response.text, 'html.parser')\n",
        "\n",
        "    # Extract the links from the search results\n",
        "    links = []\n",
        "    for item in soup.find_all('div', attrs={'class': 'g'}):\n",
        "        link_tag = item.find('a')\n",
        "        if link_tag:\n",
        "            link = link_tag.get('href')\n",
        "            if link.startswith('http'):\n",
        "                links.append(link)\n",
        "\n",
        "    return links"
      ]
    },
    {
      "cell_type": "code",
      "execution_count": 9,
      "id": "116c1b19",
      "metadata": {
        "id": "116c1b19"
      },
      "outputs": [],
      "source": [
        "import json\n",
        "\n",
        "def save_results_to_file(results, filename='results.json'):\n",
        "    with open(filename, 'w') as f:\n",
        "        json.dump(results, f, indent=4)\n",
        "\n",
        "# Save the results\n",
        "save_results_to_file(results)"
      ]
    },
    {
      "cell_type": "code",
      "execution_count": 10,
      "id": "3d862b8d",
      "metadata": {
        "id": "3d862b8d",
        "outputId": "70e2a7f4-bc01-4517-9d5c-516cc7a99817",
        "colab": {
          "base_uri": "https://localhost:8080/"
        }
      },
      "outputs": [
        {
          "output_type": "stream",
          "name": "stdout",
          "text": [
            "Enter the keyword: indian airforce\n",
            "1. https://en.wikipedia.org/wiki/Indian_Air_Force\n",
            "2. https://indianairforce.nic.in/\n",
            "3. https://careerairforce.nic.in/\n",
            "4. https://afcat.cdac.in/\n",
            "5. https://en.wikipedia.org/wiki/List_of_active_Indian_military_aircraft\n",
            "6. https://afcat.cdac.in/AFCAT/iafHistory\n",
            "7. https://indianairforce.nic.in/career-in-iaf/\n",
            "8. https://www.facebook.com/IndianAirForce/\n"
          ]
        }
      ],
      "source": [
        "if __name__ == \"__main__\":\n",
        "    keyword = input(\"Enter the keyword: \")\n",
        "    results = get_google_search_results(keyword)\n",
        "    for idx, link in enumerate(results):\n",
        "        print(f\"{idx+1}. {link}\")\n",
        "    save_results_to_file(results)"
      ]
    },
    {
      "cell_type": "code",
      "execution_count": null,
      "id": "186dc791",
      "metadata": {
        "id": "186dc791"
      },
      "outputs": [],
      "source": []
    }
  ],
  "metadata": {
    "kernelspec": {
      "display_name": "Python 3 (ipykernel)",
      "language": "python",
      "name": "python3"
    },
    "language_info": {
      "codemirror_mode": {
        "name": "ipython",
        "version": 3
      },
      "file_extension": ".py",
      "mimetype": "text/x-python",
      "name": "python",
      "nbconvert_exporter": "python",
      "pygments_lexer": "ipython3",
      "version": "3.9.13"
    },
    "colab": {
      "provenance": [],
      "include_colab_link": true
    }
  },
  "nbformat": 4,
  "nbformat_minor": 5
}